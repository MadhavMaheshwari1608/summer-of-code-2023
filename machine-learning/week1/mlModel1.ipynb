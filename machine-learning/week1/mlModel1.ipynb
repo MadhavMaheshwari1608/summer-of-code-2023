{
  "nbformat": 4,
  "nbformat_minor": 0,
  "metadata": {
    "colab": {
      "provenance": []
    },
    "kernelspec": {
      "name": "python3",
      "display_name": "Python 3"
    }
  },
  "cells": [
    {
      "cell_type": "markdown",
      "metadata": {
        "id": "vN99YjPTDena"
      },
      "source": [
        "# Decision Tree Regression"
      ]
    },
    {
      "cell_type": "markdown",
      "metadata": {
        "id": "ZIx_naXnDyHd"
      },
      "source": [
        "## Importing the libraries"
      ]
    },
    {
      "cell_type": "code",
      "metadata": {
        "id": "FjnmdyPLD2tS"
      },
      "source": [
        "import numpy as np\n",
        "import matplotlib.pyplot as plt\n",
        "import pandas as pd"
      ],
      "execution_count": 32,
      "outputs": []
    },
    {
      "cell_type": "markdown",
      "metadata": {
        "id": "6c8YExmOD5x5"
      },
      "source": [
        "## Importing the dataset"
      ]
    },
    {
      "cell_type": "code",
      "metadata": {
        "id": "nQOdXhjXD_AE"
      },
      "source": [
        "dataset = pd.read_csv('Mobile phone price.csv')\n",
        "X = dataset.iloc[:, 1:-1].values\n",
        "y = dataset.iloc[:, -1].values\n",
        "y = y.reshape(len(y),1)"
      ],
      "execution_count": 33,
      "outputs": []
    },
    {
      "cell_type": "markdown",
      "source": [
        "##Encoding the Independent Variable"
      ],
      "metadata": {
        "id": "SVbYsEb4XJXA"
      }
    },
    {
      "cell_type": "code",
      "source": [
        "# Create a DataFrame\n",
        "df = pd.DataFrame(X, columns=['Brand', 'Storage', 'RAM', 'Screen Size', 'BatteryCapacity'])\n",
        "\n",
        "# Perform one-hot encoding on the 'Brand' column\n",
        "one_hot_encoded = pd.get_dummies(df['Brand'])\n",
        "\n",
        "# Concatenate the one-hot encoded columns with the original DataFrame\n",
        "df_encoded = pd.concat([df.drop('Brand', axis=1), one_hot_encoded], axis=1)\n",
        "\n",
        "# Print the encoded DataFrame\n",
        "print(df_encoded)\n"
      ],
      "metadata": {
        "colab": {
          "base_uri": "https://localhost:8080/"
        },
        "id": "u6bmbm6AcLqr",
        "outputId": "066ecc9a-5c73-485b-c6f1-061c6d9398ef"
      },
      "execution_count": 34,
      "outputs": [
        {
          "output_type": "stream",
          "name": "stdout",
          "text": [
            "    Storage RAM Screen Size BatteryCapacity  Apple  Asus  Blackberry  Google  \\\n",
            "0       128   6         6.1            3095      1     0           0       0   \n",
            "1       256  12         6.8            5000      0     0           0       0   \n",
            "2       128   8         6.7            4500      0     0           0       0   \n",
            "3       128   6        6.67            5020      0     0           0       0   \n",
            "4       128   8         6.4            4614      0     0           0       1   \n",
            "..      ...  ..         ...             ...    ...   ...         ...     ...   \n",
            "397     128   8         6.7            4300      0     0           0       0   \n",
            "398     128   6        6.57            4160      0     0           0       0   \n",
            "399     128   6         6.7            3687      1     0           0       0   \n",
            "400     128   8         6.4            4025      0     0           0       0   \n",
            "401     128   6         6.7            4500      0     0           0       0   \n",
            "\n",
            "     Huawei  Motorola  Nokia  OnePlus  Oppo  Realme  Samsung  Sony  Vivo  \\\n",
            "0         0         0      0        0     0       0        0     0     0   \n",
            "1         0         0      0        0     0       0        1     0     0   \n",
            "2         0         0      0        1     0       0        0     0     0   \n",
            "3         0         0      0        0     0       0        0     0     0   \n",
            "4         0         0      0        0     0       0        0     0     0   \n",
            "..      ...       ...    ...      ...   ...     ...      ...   ...   ...   \n",
            "397       0         0      0        0     0       0        1     0     0   \n",
            "398       0         0      0        0     0       0        0     0     0   \n",
            "399       0         0      0        0     0       0        0     0     0   \n",
            "400       0         0      0        0     1       0        0     0     0   \n",
            "401       0         0      0        0     0       0        1     0     0   \n",
            "\n",
            "     Xiaomi  \n",
            "0         0  \n",
            "1         0  \n",
            "2         0  \n",
            "3         1  \n",
            "4         0  \n",
            "..      ...  \n",
            "397       0  \n",
            "398       1  \n",
            "399       0  \n",
            "400       0  \n",
            "401       0  \n",
            "\n",
            "[402 rows x 18 columns]\n"
          ]
        }
      ]
    },
    {
      "cell_type": "markdown",
      "metadata": {
        "id": "Ud_1XTb28iXH"
      },
      "source": [
        "## Splitting the dataset into the Training set and Test set"
      ]
    },
    {
      "cell_type": "code",
      "metadata": {
        "id": "bUib_pbl8ipB"
      },
      "source": [
        "from sklearn.model_selection import train_test_split\n",
        "X_train, X_test, y_train, y_test = train_test_split(df_encoded, y, test_size = 0.2, random_state = 0)"
      ],
      "execution_count": 35,
      "outputs": []
    },
    {
      "cell_type": "markdown",
      "metadata": {
        "id": "Rb5nWuSHEfBV"
      },
      "source": [
        "## Training the Support Vector Regression model on the Training set"
      ]
    },
    {
      "cell_type": "code",
      "metadata": {
        "id": "HYplp4pTEm0O",
        "colab": {
          "base_uri": "https://localhost:8080/",
          "height": 75
        },
        "outputId": "1be707b6-963b-44ff-f2dd-7095a8bab47b"
      },
      "source": [
        "from sklearn.tree import DecisionTreeRegressor\n",
        "regressor = DecisionTreeRegressor(random_state = 0)\n",
        "regressor.fit(X_train, y_train)"
      ],
      "execution_count": 36,
      "outputs": [
        {
          "output_type": "execute_result",
          "data": {
            "text/plain": [
              "DecisionTreeRegressor(random_state=0)"
            ],
            "text/html": [
              "<style>#sk-container-id-3 {color: black;background-color: white;}#sk-container-id-3 pre{padding: 0;}#sk-container-id-3 div.sk-toggleable {background-color: white;}#sk-container-id-3 label.sk-toggleable__label {cursor: pointer;display: block;width: 100%;margin-bottom: 0;padding: 0.3em;box-sizing: border-box;text-align: center;}#sk-container-id-3 label.sk-toggleable__label-arrow:before {content: \"▸\";float: left;margin-right: 0.25em;color: #696969;}#sk-container-id-3 label.sk-toggleable__label-arrow:hover:before {color: black;}#sk-container-id-3 div.sk-estimator:hover label.sk-toggleable__label-arrow:before {color: black;}#sk-container-id-3 div.sk-toggleable__content {max-height: 0;max-width: 0;overflow: hidden;text-align: left;background-color: #f0f8ff;}#sk-container-id-3 div.sk-toggleable__content pre {margin: 0.2em;color: black;border-radius: 0.25em;background-color: #f0f8ff;}#sk-container-id-3 input.sk-toggleable__control:checked~div.sk-toggleable__content {max-height: 200px;max-width: 100%;overflow: auto;}#sk-container-id-3 input.sk-toggleable__control:checked~label.sk-toggleable__label-arrow:before {content: \"▾\";}#sk-container-id-3 div.sk-estimator input.sk-toggleable__control:checked~label.sk-toggleable__label {background-color: #d4ebff;}#sk-container-id-3 div.sk-label input.sk-toggleable__control:checked~label.sk-toggleable__label {background-color: #d4ebff;}#sk-container-id-3 input.sk-hidden--visually {border: 0;clip: rect(1px 1px 1px 1px);clip: rect(1px, 1px, 1px, 1px);height: 1px;margin: -1px;overflow: hidden;padding: 0;position: absolute;width: 1px;}#sk-container-id-3 div.sk-estimator {font-family: monospace;background-color: #f0f8ff;border: 1px dotted black;border-radius: 0.25em;box-sizing: border-box;margin-bottom: 0.5em;}#sk-container-id-3 div.sk-estimator:hover {background-color: #d4ebff;}#sk-container-id-3 div.sk-parallel-item::after {content: \"\";width: 100%;border-bottom: 1px solid gray;flex-grow: 1;}#sk-container-id-3 div.sk-label:hover label.sk-toggleable__label {background-color: #d4ebff;}#sk-container-id-3 div.sk-serial::before {content: \"\";position: absolute;border-left: 1px solid gray;box-sizing: border-box;top: 0;bottom: 0;left: 50%;z-index: 0;}#sk-container-id-3 div.sk-serial {display: flex;flex-direction: column;align-items: center;background-color: white;padding-right: 0.2em;padding-left: 0.2em;position: relative;}#sk-container-id-3 div.sk-item {position: relative;z-index: 1;}#sk-container-id-3 div.sk-parallel {display: flex;align-items: stretch;justify-content: center;background-color: white;position: relative;}#sk-container-id-3 div.sk-item::before, #sk-container-id-3 div.sk-parallel-item::before {content: \"\";position: absolute;border-left: 1px solid gray;box-sizing: border-box;top: 0;bottom: 0;left: 50%;z-index: -1;}#sk-container-id-3 div.sk-parallel-item {display: flex;flex-direction: column;z-index: 1;position: relative;background-color: white;}#sk-container-id-3 div.sk-parallel-item:first-child::after {align-self: flex-end;width: 50%;}#sk-container-id-3 div.sk-parallel-item:last-child::after {align-self: flex-start;width: 50%;}#sk-container-id-3 div.sk-parallel-item:only-child::after {width: 0;}#sk-container-id-3 div.sk-dashed-wrapped {border: 1px dashed gray;margin: 0 0.4em 0.5em 0.4em;box-sizing: border-box;padding-bottom: 0.4em;background-color: white;}#sk-container-id-3 div.sk-label label {font-family: monospace;font-weight: bold;display: inline-block;line-height: 1.2em;}#sk-container-id-3 div.sk-label-container {text-align: center;}#sk-container-id-3 div.sk-container {/* jupyter's `normalize.less` sets `[hidden] { display: none; }` but bootstrap.min.css set `[hidden] { display: none !important; }` so we also need the `!important` here to be able to override the default hidden behavior on the sphinx rendered scikit-learn.org. See: https://github.com/scikit-learn/scikit-learn/issues/21755 */display: inline-block !important;position: relative;}#sk-container-id-3 div.sk-text-repr-fallback {display: none;}</style><div id=\"sk-container-id-3\" class=\"sk-top-container\"><div class=\"sk-text-repr-fallback\"><pre>DecisionTreeRegressor(random_state=0)</pre><b>In a Jupyter environment, please rerun this cell to show the HTML representation or trust the notebook. <br />On GitHub, the HTML representation is unable to render, please try loading this page with nbviewer.org.</b></div><div class=\"sk-container\" hidden><div class=\"sk-item\"><div class=\"sk-estimator sk-toggleable\"><input class=\"sk-toggleable__control sk-hidden--visually\" id=\"sk-estimator-id-3\" type=\"checkbox\" checked><label for=\"sk-estimator-id-3\" class=\"sk-toggleable__label sk-toggleable__label-arrow\">DecisionTreeRegressor</label><div class=\"sk-toggleable__content\"><pre>DecisionTreeRegressor(random_state=0)</pre></div></div></div></div></div>"
            ]
          },
          "metadata": {},
          "execution_count": 36
        }
      ]
    },
    {
      "cell_type": "markdown",
      "metadata": {
        "id": "pzF3BRps9nlk"
      },
      "source": [
        "## Predicting the Test set results"
      ]
    },
    {
      "cell_type": "code",
      "metadata": {
        "id": "36aFLFBK9pMk",
        "colab": {
          "base_uri": "https://localhost:8080/"
        },
        "outputId": "3823c935-06cf-47c0-dd39-1c76dcf8f16e"
      },
      "source": [
        "y_pred = regressor.predict(X_test)\n",
        "np.set_printoptions(precision=2)\n",
        "print(np.concatenate((y_pred.reshape(len(y_pred),1), y_test.reshape(len(y_test),1)),1))"
      ],
      "execution_count": 37,
      "outputs": [
        {
          "output_type": "stream",
          "name": "stdout",
          "text": [
            "[[ 259.    269.  ]\n",
            " [ 699.   1049.  ]\n",
            " [ 429.    429.  ]\n",
            " [ 799.    799.  ]\n",
            " [ 542.75  449.  ]\n",
            " [1199.    749.  ]\n",
            " [ 299.    299.  ]\n",
            " [ 542.75  449.  ]\n",
            " [ 129.    169.  ]\n",
            " [ 699.    499.  ]\n",
            " [ 399.    399.  ]\n",
            " [ 799.    999.  ]\n",
            " [ 141.5   149.  ]\n",
            " [  99.    109.  ]\n",
            " [ 314.    329.  ]\n",
            " [ 699.   1099.  ]\n",
            " [1099.   1099.  ]\n",
            " [ 199.    189.  ]\n",
            " [ 259.    279.  ]\n",
            " [ 542.75  469.  ]\n",
            " [ 141.5   139.  ]\n",
            " [ 749.    329.  ]\n",
            " [ 139.    149.  ]\n",
            " [ 349.    329.  ]\n",
            " [ 314.    369.  ]\n",
            " [ 699.    699.  ]\n",
            " [ 314.    309.  ]\n",
            " [ 374.    329.  ]\n",
            " [ 144.    149.  ]\n",
            " [ 749.    599.  ]\n",
            " [ 149.    149.  ]\n",
            " [ 329.    329.  ]\n",
            " [ 314.    399.  ]\n",
            " [ 290.25  249.  ]\n",
            " [ 969.    969.  ]\n",
            " [ 179.    229.  ]\n",
            " [ 141.5   139.  ]\n",
            " [ 265.25  299.  ]\n",
            " [ 271.5   339.  ]\n",
            " [ 549.    659.  ]\n",
            " [ 249.    249.  ]\n",
            " [ 289.    279.  ]\n",
            " [ 149.    169.  ]\n",
            " [1099.    999.  ]\n",
            " [1199.   1199.  ]\n",
            " [ 542.75  449.  ]\n",
            " [ 449.    449.  ]\n",
            " [ 542.75  459.  ]\n",
            " [ 399.    499.  ]\n",
            " [1099.    349.  ]\n",
            " [ 175.    199.  ]\n",
            " [ 229.    249.  ]\n",
            " [ 699.    699.  ]\n",
            " [ 271.5   299.  ]\n",
            " [ 799.    799.  ]\n",
            " [ 624.    649.  ]\n",
            " [ 149.    149.  ]\n",
            " [  99.     99.  ]\n",
            " [ 179.    169.  ]\n",
            " [ 399.    329.  ]\n",
            " [ 139.    139.  ]\n",
            " [ 699.    699.  ]\n",
            " [  99.     99.  ]\n",
            " [ 229.    179.  ]\n",
            " [ 699.    799.  ]\n",
            " [ 169.     99.  ]\n",
            " [ 199.    279.  ]\n",
            " [ 199.    199.  ]\n",
            " [ 739.    729.  ]\n",
            " [ 799.    799.  ]\n",
            " [ 387.    499.  ]\n",
            " [ 275.    249.  ]\n",
            " [ 259.    219.  ]\n",
            " [ 275.    249.  ]\n",
            " [ 289.    249.  ]\n",
            " [ 532.33  499.  ]\n",
            " [ 199.    179.  ]\n",
            " [ 199.    219.  ]\n",
            " [ 969.   1199.  ]\n",
            " [ 149.    149.  ]\n",
            " [ 624.    399.  ]]\n"
          ]
        }
      ]
    },
    {
      "cell_type": "markdown",
      "metadata": {
        "id": "Fz1uTlWV919-"
      },
      "source": [
        "## Evaluating the Model Performance"
      ]
    },
    {
      "cell_type": "code",
      "metadata": {
        "id": "xvZQ_4W893-e",
        "colab": {
          "base_uri": "https://localhost:8080/"
        },
        "outputId": "379797e8-e6a1-4590-ecbf-130eb2c43282"
      },
      "source": [
        "from sklearn.metrics import r2_score\n",
        "r2_score(y_test, y_pred)"
      ],
      "execution_count": 38,
      "outputs": [
        {
          "output_type": "execute_result",
          "data": {
            "text/plain": [
              "0.765485413518684"
            ]
          },
          "metadata": {},
          "execution_count": 38
        }
      ]
    }
  ]
}